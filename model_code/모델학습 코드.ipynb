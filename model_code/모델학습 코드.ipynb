{
 "cells": [
  {
   "cell_type": "code",
   "execution_count": null,
   "metadata": {},
   "outputs": [],
   "source": [
    "import matplotlib.pyplot as plt\n",
    "import numpy as np\n",
    "import PIL\n",
    "import tensorflow as tf\n",
    "from tensorflow import keras\n",
    "from tensorflow.keras.models import load_model\n",
    "from tensorflow.keras.preprocessing.image import ImageDataGenerator\n",
    "from keras.applications.inception_v3 import InceptionV3\n",
    "from tensorflow.keras import layers, models\n",
    "from tensorflow.keras.callbacks import EarlyStopping, ModelCheckpoint\n",
    "from tensorflow.keras.applications import MobileNetV3Large\n",
    "from tensorflow.keras.layers import Dense, Flatten"
   ]
  },
  {
   "cell_type": "markdown",
   "metadata": {},
   "source": [
    "### 1. 학습,검증 데이터셋 생성"
   ]
  },
  {
   "cell_type": "code",
   "execution_count": null,
   "metadata": {},
   "outputs": [],
   "source": [
    "train_ds = tf.keras.utils.image_dataset_from_directory(\n",
    "  'D:\\\\ai_phiso\\data',\n",
    "  validation_split=0.2,\n",
    "  subset=\"training\",\n",
    "  seed=42,\n",
    "  image_size=(150,150))"
   ]
  },
  {
   "cell_type": "code",
   "execution_count": null,
   "metadata": {},
   "outputs": [],
   "source": [
    "val_ds = tf.keras.utils.image_dataset_from_directory(\n",
    "  'D:\\\\ai_phiso\\data',\n",
    "  validation_split=0.2,\n",
    "  subset=\"validation\",\n",
    "  seed=42,\n",
    "  image_size=(150,150))"
   ]
  },
  {
   "cell_type": "code",
   "execution_count": null,
   "metadata": {},
   "outputs": [],
   "source": [
    "class_names = train_ds.class_names\n",
    "print(class_names)"
   ]
  },
  {
   "cell_type": "code",
   "execution_count": null,
   "metadata": {},
   "outputs": [],
   "source": [
    "# val_ds에서 이미지와 라벨 추출\n",
    "xtrain = []\n",
    "ytrain = []\n",
    "\n",
    "for images, labels in train_ds:\n",
    "    xtrain.append(images.numpy())\n",
    "    ytrain.append(labels.numpy())\n",
    "\n",
    "# numpy 배열로 변환\n",
    "xtrain = tf.concat(xtrain, axis=0).numpy()  # 이미지를 하나의 배열로 병합\n",
    "ytrain = tf.concat(ytrain, axis=0).numpy()  # 레이블을 하나의 배열로 병합\n",
    "\n",
    "print(f\"xtrain shape: {xtrain.shape}, ytrain shape: {ytrain.shape}\")"
   ]
  },
  {
   "cell_type": "code",
   "execution_count": null,
   "metadata": {},
   "outputs": [],
   "source": [
    "# val_ds에서 이미지와 라벨 추출\n",
    "xval = []\n",
    "yval = []\n",
    "\n",
    "for images, labels in val_ds:\n",
    "    xval.append(images.numpy())\n",
    "    yval.append(labels.numpy())\n",
    "\n",
    "# numpy 배열로 변환\n",
    "xval = tf.concat(xval, axis=0).numpy()  # 이미지를 하나의 배열로 병합\n",
    "yval = tf.concat(yval, axis=0).numpy()  # 레이블을 하나의 배열로 병합\n",
    "\n",
    "print(f\"xval shape: {xval.shape}, yval shape: {yval.shape}\")"
   ]
  },
  {
   "cell_type": "markdown",
   "metadata": {},
   "source": [
    "### 2. 데이터 증강"
   ]
  },
  {
   "cell_type": "code",
   "execution_count": null,
   "metadata": {},
   "outputs": [],
   "source": [
    "# InceptionV3, 자체 생성 모델의 경우 해당 데이터셋 사용\n",
    "datagen = ImageDataGenerator(\n",
    "    rescale=1/255,\n",
    "    rotation_range=10,  \n",
    "    zoom_range=0.2,  \n",
    "    width_shift_range=0.1,  \n",
    "    height_shift_range=0.1, \n",
    "    horizontal_flip=True,  \n",
    "    vertical_flip=False\n",
    ")"
   ]
  },
  {
   "cell_type": "code",
   "execution_count": null,
   "metadata": {},
   "outputs": [],
   "source": [
    "# MobileNet의 경우 -1 ~ 1의 범위로 정규화가 필요하기에 스케일링을 제외함\n",
    "datagen2 = ImageDataGenerator(\n",
    "    rotation_range=10,  \n",
    "    zoom_range=0.2, \n",
    "    width_shift_range=0.1,  \n",
    "    height_shift_range=0.1, \n",
    "    horizontal_flip=True,  \n",
    "    vertical_flip=False\n",
    ")  "
   ]
  },
  {
   "cell_type": "code",
   "execution_count": null,
   "metadata": {},
   "outputs": [],
   "source": [
    "img_iter = datagen.flow(xtrain, ytrain)\n",
    "img_iter2 = datagen2.flow(xtrain, ytrain)"
   ]
  },
  {
   "cell_type": "markdown",
   "metadata": {},
   "source": [
    "### 3. 자체 모델 생성\n",
    "\n",
    "- 34.58%의 정확도 달성"
   ]
  },
  {
   "cell_type": "code",
   "execution_count": null,
   "metadata": {},
   "outputs": [],
   "source": [
    "model = models.Sequential()\n",
    "model.add(layers.Conv2D(150, (3, 3), activation='relu', input_shape=(150,150, 3)))\n",
    "model.add(layers.MaxPooling2D((2, 2)))\n",
    "model.add(layers.Conv2D(75, (3, 3), activation='relu'))\n",
    "model.add(layers.MaxPooling2D((2, 2)))\n",
    "model.add(layers.Conv2D(75, (3, 3), activation='relu'))\n",
    "model.add(layers.Flatten())\n",
    "model.add(layers.Dense(37, activation='relu'))\n",
    "model.add(layers.Dense(6,activation='softmax'))\n",
    "\n",
    "model.compile(loss='sparse_categorical_crossentropy', metrics=['accuracy'],\n",
    "              optimizer=keras.optimizers.Adam(learning_rate=0.001))\n",
    "\n",
    "esc = EarlyStopping(monitor='val_loss', patience=3)\n",
    "\n",
    "h = model.fit(img_iter,\n",
    "          epochs=20,\n",
    "          validation_data=(xval, yval),\n",
    "          callbacks = [esc])"
   ]
  },
  {
   "cell_type": "markdown",
   "metadata": {},
   "source": [
    "### 4. MobileNet 파인 튜닝\n",
    "\n",
    "- 95.67%의 정확도 달성"
   ]
  },
  {
   "cell_type": "code",
   "execution_count": null,
   "metadata": {},
   "outputs": [],
   "source": [
    "mobilenet = MobileNetV3Large()\n",
    "mobilenet.trainable = False\n",
    "\n",
    "inputs = tf.keras.Input(shape=(150,150,3))\n",
    "x = mobilenet(inputs, training=False)\n",
    "x = Flatten()(x)\n",
    "output = Dense(6, activation='softmax')(x)\n",
    "\n",
    "mobilenet = tf.keras.Model(inputs = inputs, outputs=output)\n",
    "mobilenet.summary()\n",
    "\n",
    "# 모델 컴파일\n",
    "\n",
    "mobilenet.compile(\n",
    "    loss='sparse_categorical_crossentropy', # 레이블이 문자열인 경우 sparse 사용\n",
    "    metrics=['accuracy'],\n",
    "    optimizer=tf.keras.optimizers.Adam(learning_rate=0.001),\n",
    ")\n",
    "\n",
    "# 콜백 설정\n",
    "es = EarlyStopping(monitor='val_loss', verbose=1, patience=3)\n",
    "\n",
    "# 모델 학습\n",
    "history = mobilenet.fit(\n",
    "    img_iter2,\n",
    "    validation_data=(xval, yval),\n",
    "    epochs=40,\n",
    "    callbacks=[es]\n",
    ")"
   ]
  },
  {
   "cell_type": "code",
   "execution_count": null,
   "metadata": {},
   "outputs": [],
   "source": [
    "# MobileNet 학습과정 시각화\n",
    "\n",
    "plt.figure(figsize=(12,4))\n",
    "\n",
    "plt.subplot(1,2,1)\n",
    "plt.plot(history.history['loss'], 'y', label = 'train loss')\n",
    "plt.plot(history.history['val_loss'], 'r', label = 'val loss')\n",
    "plt.title('MobileNetV3Large Loss')\n",
    "plt.legend()\n",
    "\n",
    "plt.subplot(1,2,2)\n",
    "plt.plot(history.history['accuracy'], 'y', label = 'train accuracy')\n",
    "plt.plot(history.history['val_accuracy'], 'r', label = 'val accuracy')\n",
    "plt.title('MobileNetV3Large Accuracy')\n",
    "plt.legend()\n",
    "\n",
    "plt.tight_layout()\n",
    "plt.show()"
   ]
  },
  {
   "cell_type": "code",
   "execution_count": null,
   "metadata": {},
   "outputs": [],
   "source": [
    "model_save_path = 'mobilenet_custom_trained_model.h5'\n",
    "mobilenet.save(model_save_path)"
   ]
  },
  {
   "cell_type": "markdown",
   "metadata": {},
   "source": [
    "### 5. InceptionV3 파인 튜닝\n",
    "\n",
    "- 97%의 정확도 달성"
   ]
  },
  {
   "cell_type": "code",
   "execution_count": null,
   "metadata": {},
   "outputs": [],
   "source": [
    "incep = InceptionV3(include_top=False)\n",
    "incep.trainable = False\n",
    "\n",
    "inputs = tf.keras.Input(shape=(150,150,3))\n",
    "x = incep(inputs, training=False)\n",
    "x = Flatten()(x)\n",
    "output = Dense(6, activation='softmax')(x)\n",
    "\n",
    "incep = tf.keras.Model(inputs = inputs, outputs=output)\n",
    "\n",
    "# 모델 컴파일\n",
    "\n",
    "incep.compile(\n",
    "    loss='sparse_categorical_crossentropy', # 레이블이 문자열인 경우 sparse 사용\n",
    "    metrics=['accuracy'],\n",
    "    optimizer=tf.keras.optimizers.Adam(learning_rate=0.001),\n",
    ")\n",
    "\n",
    "# 콜백 설정\n",
    "es = EarlyStopping(monitor='val_loss', verbose=1, patience=3)\n",
    "\n",
    "# 모델 학습\n",
    "incep_history = incep.fit(\n",
    "    img_iter2,\n",
    "    validation_data=(xval, yval),\n",
    "    epochs=20,\n",
    "    callbacks=[es]\n",
    ")"
   ]
  }
 ],
 "metadata": {
  "kernelspec": {
   "display_name": "Python 3",
   "language": "python",
   "name": "python3"
  },
  "language_info": {
   "codemirror_mode": {
    "name": "ipython",
    "version": 3
   },
   "file_extension": ".py",
   "mimetype": "text/x-python",
   "name": "python",
   "nbconvert_exporter": "python",
   "pygments_lexer": "ipython3",
   "version": "3.10.11"
  }
 },
 "nbformat": 4,
 "nbformat_minor": 2
}
