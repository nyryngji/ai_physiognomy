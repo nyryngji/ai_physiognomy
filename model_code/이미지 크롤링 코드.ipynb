{
 "cells": [
  {
   "cell_type": "code",
   "execution_count": null,
   "metadata": {},
   "outputs": [],
   "source": [
    "from selenium import webdriver\n",
    "from urllib.parse import quote_plus\n",
    "from urllib.request import urlopen\n",
    "import os\n",
    "from selenium.webdriver.common.by import By\n",
    "import time"
   ]
  },
  {
   "cell_type": "markdown",
   "metadata": {},
   "source": [
    "### 1. 페이지 스크롤 함수"
   ]
  },
  {
   "cell_type": "code",
   "execution_count": null,
   "metadata": {},
   "outputs": [],
   "source": [
    "def scrollToEnd(driver):\n",
    "    prev_height = driver.execute_script('return document.body.scrollHeight')\n",
    "    print(f'prev_height: {prev_height}')\n",
    "    \n",
    "    while True:\n",
    "        time.sleep(1) #네이버는 sleep없이 이동할 경우 무한로딩에 걸린다.\n",
    "        driver.execute_script('window.scrollTo(0, document.body.scrollHeight)')\n",
    "        time.sleep(3)\n",
    "        \n",
    "        cur_height = driver.execute_script('return document.body.scrollHeight')\n",
    "        print(f'cur_height: {cur_height}')\n",
    "        if cur_height == prev_height:\n",
    "            print('높이가 같아짐')\n",
    "            break\n",
    "        prev_height = cur_height\n",
    "    \n",
    "    # 페이지를 모두 로딩한 후에는 최상단으로 다시 올라가기\n",
    "    driver.execute_script('window.scrollTo(0, 0)') "
   ]
  },
  {
   "cell_type": "markdown",
   "metadata": {},
   "source": [
    "### 2. 네이버 이미지 페이지에서 이미지 크롤링"
   ]
  },
  {
   "cell_type": "code",
   "execution_count": null,
   "metadata": {},
   "outputs": [],
   "source": [
    "lst = []\n",
    "\n",
    "for i in ['퍼그 이미지', '퍼그 미용']:\n",
    "    url = f'https://search.naver.com/search.naver?ssc=tab.image.all&where=image&sm=tab_jum&query={i}'\n",
    "\n",
    "    # chrome 브라우저 열기\n",
    "    browser = webdriver.Chrome()\n",
    "    browser.implicitly_wait(3)  # 브라우저를 오픈할 때 시간간격 제공\n",
    "    browser.get(url)\n",
    "\n",
    "    # 이미지 긁어오기\n",
    "    while True:\n",
    "        scrollToEnd(browser)\n",
    "        images = browser.find_elements(By.CLASS_NAME, \"_fe_image_tab_content_thumbnail_image\")\n",
    "        lst += images\n",
    "        # 두 검색 항목을 모두 합해서 4000장을 크롤링하도록 조건문 수행\n",
    "        if i == '퍼그 이미지':\n",
    "            if len(lst) > 2000:\n",
    "                break\n",
    "        else:\n",
    "            if len(lst) > 4000:\n",
    "                break"
   ]
  },
  {
   "cell_type": "markdown",
   "metadata": {},
   "source": [
    "### 3. 수집한 이미지 파일 경로를 실제 이미지로 변환 수행"
   ]
  },
  {
   "cell_type": "code",
   "execution_count": null,
   "metadata": {},
   "outputs": [],
   "source": [
    "index = 0\n",
    "\n",
    "for image in list(set(lst)):\n",
    "    html_code = image.get_attribute('src')\n",
    "    save_path = 'D:\\\\ai_phiso\\dog\\\\fug\\\\'\n",
    "    t = urlopen(html_code).read()\n",
    "    file = open(os.path.join(save_path, \"fug\"+ str(index + 1) + \".jpg\"), \"wb\")\n",
    "    file.write(t)\n",
    "    print(\"img save \" + save_path + \"fug\" + str(index + 1) + \".jpg\") \n",
    "    index += 1"
   ]
  },
  {
   "cell_type": "markdown",
   "metadata": {},
   "source": [
    "### 4. 수집한 이미지에서 강아지만 검출 수행"
   ]
  },
  {
   "cell_type": "code",
   "execution_count": null,
   "metadata": {},
   "outputs": [],
   "source": [
    "from ultralytics import YOLO\n",
    "import cv2\n",
    "\n",
    "for dog_name in os.listdir('D:\\\\ai_phiso\\dog')[2:]:\n",
    "    print(dog_name)\n",
    "    \n",
    "    model = YOLO('yolov8s.pt')\n",
    "\n",
    "    folder_name = f'D:\\\\ai_phiso\\dog\\\\{dog_name}' # 크롭할 이미지가 있는 폴더\n",
    "\n",
    "    file_num = 1\n",
    "\n",
    "    for file_name in os.listdir(f'{folder_name}'):\n",
    "        img_name = f'{folder_name}\\\\{file_name}'\n",
    "        img = cv2.imread(img_name)\n",
    "        img = cv2.resize(img,(640,640))\n",
    "        results = model.predict(img)\n",
    "\n",
    "        try:\n",
    "            a, b, c, d = [int(i) for i in (results[0].boxes.xyxy[0])]\n",
    "            \n",
    "            x1, y1 = a, b\n",
    "            x2, y2 = c, d\n",
    "\n",
    "            x1, x2 = min(a, c), max(a, c)\n",
    "            y1, y2 = min(b, d), max(b, d)\n",
    "\n",
    "            cropped_img = img[y1+2:y2-2, x1+2:x2-2] # 이미지 내 객체만 추출\n",
    "            cropped_img_path = f'D:\\\\ai_phiso\\\\data\\\\{dog_name}_{file_num}.jpg' # 크롭한 이미지가 저장될 폴더 + 이미지 이름\n",
    "\n",
    "            cv2.imwrite(cropped_img_path, cropped_img) # 크롭한 이미지 저장\n",
    "            file_num += 1\n",
    "        except:\n",
    "            continue"
   ]
  }
 ],
 "metadata": {
  "kernelspec": {
   "display_name": "Python 3",
   "language": "python",
   "name": "python3"
  },
  "language_info": {
   "codemirror_mode": {
    "name": "ipython",
    "version": 3
   },
   "file_extension": ".py",
   "mimetype": "text/x-python",
   "name": "python",
   "nbconvert_exporter": "python",
   "pygments_lexer": "ipython3",
   "version": "3.10.11"
  }
 },
 "nbformat": 4,
 "nbformat_minor": 2
}
